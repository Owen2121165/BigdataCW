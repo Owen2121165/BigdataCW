{
 "cells": [
  {
   "cell_type": "markdown",
   "id": "9e32fe11",
   "metadata": {},
   "source": [
    "# 1. Imports and Library\n"
   ]
  },
  {
   "cell_type": "code",
   "execution_count": 9,
   "id": "90b94bf7",
   "metadata": {},
   "outputs": [],
   "source": [
    "import numpy as np\n",
    "import pandas as pd\n",
    "import matplotlib.pyplot as plt\n",
    "import seaborn as sns\n",
    "import plotly.express as px\n",
    "import os\n",
    "import tensorflow as tf#\n",
    "from tensorflow.keras.datasets import fashion_mnist\n",
    "from tensorflow.keras.utils import to_categorical, plot_model\n",
    "from tensorflow.keras.models import Sequential\n",
    "from tensorflow.keras.layers import Dense, Conv2D, MaxPooling2D, Flatten, Dropout\n",
    "from tensorflow.keras.callbacks import EarlyStopping\n",
    "from sklearn.model_selection import train_test_split\n",
    "from sklearn.metrics import classification_report, confusion_matrix\n"
   ]
  },
  {
   "cell_type": "markdown",
   "id": "f7b8b897",
   "metadata": {},
   "source": [
    "# 2. Data Collection and Loading\n"
   ]
  },
  {
   "cell_type": "code",
   "execution_count": 10,
   "id": "4f000852",
   "metadata": {},
   "outputs": [],
   "source": [
    "# Load Fashion MNIST dataset\n",
    "(x_train, y_train), (x_test, y_test) = fashion_mnist.load_data()\n",
    "\n",
    "# Reshape for CNN input\n",
    "x_train = x_train.reshape(-1, 28, 28, 1) / 255.0\n",
    "x_test = x_test.reshape(-1, 28, 28, 1) / 255.0\n",
    "\n",
    "# One-hot encode the labels\n",
    "y_train_cat = to_categorical(y_train, 10)\n",
    "y_test_cat = to_categorical(y_test, 10)\n",
    "\n",
    "# Further split training into train/val\n",
    "x_train_final, x_val, y_train_final, y_val = train_test_split(\n",
    "    x_train, y_train_cat, test_size=0.2, random_state=42\n",
    ")\n",
    "\n",
    "# Save shape info\n",
    "image_height, image_width, channels = x_train_final.shape[1:4]\n",
    "num_classes = y_train_cat.shape[1]"
   ]
  },
  {
   "cell_type": "markdown",
   "id": "37105403",
   "metadata": {},
   "source": [
    "# 3. Data Validation and Preprocessing\n"
   ]
  },
  {
   "cell_type": "code",
   "execution_count": null,
   "id": "f2d5bee7",
   "metadata": {},
   "outputs": [],
   "source": [
    "# Preprocess and split the data\n"
   ]
  },
  {
   "cell_type": "markdown",
   "id": "e6154afd",
   "metadata": {},
   "source": [
    "# 4. Exploratory Data Analysis (EDA)\n"
   ]
  },
  {
   "cell_type": "code",
   "execution_count": null,
   "id": "48e218b5",
   "metadata": {},
   "outputs": [],
   "source": [
    "# Analyze data characteristics and visualize\n"
   ]
  },
  {
   "cell_type": "markdown",
   "id": "1c05bd5b",
   "metadata": {},
   "source": [
    "# 5. CNN Model 1: Baseline Architecture\n"
   ]
  },
  {
   "cell_type": "code",
   "execution_count": null,
   "id": "cea1a336",
   "metadata": {},
   "outputs": [],
   "source": [
    "# Define and compile model 1\n"
   ]
  },
  {
   "cell_type": "markdown",
   "id": "08911ed8",
   "metadata": {},
   "source": [
    "# 6. CNN Model 2: Improved Hyperparameters\n"
   ]
  },
  {
   "cell_type": "code",
   "execution_count": null,
   "id": "81e830a0",
   "metadata": {},
   "outputs": [],
   "source": [
    "# Define and compile model 2\n"
   ]
  },
  {
   "cell_type": "markdown",
   "id": "1e80a6be",
   "metadata": {},
   "source": [
    "# 7. CNN Model 3: Additional Layers/Regularization\n"
   ]
  },
  {
   "cell_type": "code",
   "execution_count": null,
   "id": "e2e54319",
   "metadata": {},
   "outputs": [],
   "source": [
    "# Define and compile model 3\n"
   ]
  },
  {
   "cell_type": "markdown",
   "id": "c221ad0e",
   "metadata": {},
   "source": [
    "# 8. Model Evaluation\n"
   ]
  },
  {
   "cell_type": "code",
   "execution_count": null,
   "id": "b8a0e046",
   "metadata": {},
   "outputs": [],
   "source": [
    "# Evaluate and compare models\n"
   ]
  },
  {
   "cell_type": "markdown",
   "id": "5013b15c",
   "metadata": {},
   "source": [
    "# 9. Final Model Testing on Unseen Data\n"
   ]
  },
  {
   "cell_type": "code",
   "execution_count": null,
   "id": "7f8eeefb",
   "metadata": {},
   "outputs": [],
   "source": [
    "# Predict using final model and visualize probabilities\n"
   ]
  },
  {
   "cell_type": "markdown",
   "id": "4cb946c5",
   "metadata": {},
   "source": [
    "# 10. Summary of Model Comparison\n"
   ]
  },
  {
   "cell_type": "code",
   "execution_count": null,
   "id": "dd3a45a2",
   "metadata": {},
   "outputs": [],
   "source": [
    "# Summary results and observations\n"
   ]
  }
 ],
 "metadata": {
  "kernelspec": {
   "display_name": "Python 3",
   "language": "python",
   "name": "python3"
  },
  "language_info": {
   "codemirror_mode": {
    "name": "ipython",
    "version": 3
   },
   "file_extension": ".py",
   "mimetype": "text/x-python",
   "name": "python",
   "nbconvert_exporter": "python",
   "pygments_lexer": "ipython3",
   "version": "3.12.1"
  }
 },
 "nbformat": 4,
 "nbformat_minor": 5
}
